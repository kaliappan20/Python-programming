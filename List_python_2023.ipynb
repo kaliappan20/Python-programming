{
  "nbformat": 4,
  "nbformat_minor": 0,
  "metadata": {
    "colab": {
      "provenance": []
    },
    "kernelspec": {
      "name": "python3",
      "display_name": "Python 3"
    },
    "language_info": {
      "name": "python"
    }
  },
  "cells": [
    {
      "cell_type": "code",
      "execution_count": null,
      "metadata": {
        "id": "H1wc1WJqQ-Dm"
      },
      "outputs": [],
      "source": [
        "l=[\"apple\",\"man\"]\n",
        "Reference:\n",
        "\n",
        "Think Python: How to Think Like a Computer Scientist, 2nd Edition, Version 2.4.0\n",
        "\n",
        "https://www.w3schools.com/python/python_lists.asp\n",
        "\n",
        "\n"
      ]
    },
    {
      "cell_type": "code",
      "source": [
        "# List or What is List ?\n",
        "# a list is a sequence of values.\n",
        "# In a list, values can be any type of data.\n",
        "# The values in a list are called elements or sometimes items\n",
        "\n",
        "# List is a built-in data types in Python used to store collections of data"
      ],
      "metadata": {
        "id": "VIjE4cugS8fE"
      },
      "execution_count": null,
      "outputs": []
    },
    {
      "cell_type": "code",
      "source": [
        "# what are the difference between array and list\n",
        "\n",
        "# Array :\n",
        "# arrays can store elements only of the same type\n",
        "# Accessing element is fast in Python Arrays because they are in a contiguous manner\n",
        "# arrays require explicit looping to print elements\n",
        "# but insertion and deletion is quite expensive because all the elements are shifted from the position of inserting and deleting element linearly.\n",
        "\n",
        "# List:\n",
        "# List can store elements of different types\n",
        "# List is actually a dynamic array .\n",
        "# it doesn't require explicit looping to print elements\n",
        "# Inserting or deleting elements at the beginning or in the middle of a list can be less efficient because it may require shifting all subsequent elements\n",
        "# which is a linear-time operation in the worst case."
      ],
      "metadata": {
        "id": "uisY172k29Fq"
      },
      "execution_count": null,
      "outputs": []
    },
    {
      "cell_type": "code",
      "source": [
        "# Syntax:\n",
        "\n",
        "#  to enclose the elements in square brackets [  ]\n",
        "Ex1:\n",
        "[10, 20, 30, 40]\n",
        "\n",
        "Ex2:\n",
        "['crunchy frog', 'ram bladder', 'lark vomit']"
      ],
      "metadata": {
        "id": "AtyPa37vT8zx"
      },
      "execution_count": null,
      "outputs": []
    },
    {
      "cell_type": "code",
      "source": [
        "# Nested list\n",
        "\n",
        "#  A list within another list is nested.\n",
        "\n",
        "EX1:\n",
        " ['spam', 2.0, 5, [10, 20]]\n",
        "\n",
        " list [10, 20] is within the list\n",
        "\n"
      ],
      "metadata": {
        "id": "EpFb88jhUj3U"
      },
      "execution_count": null,
      "outputs": []
    },
    {
      "cell_type": "code",
      "source": [
        "# Empty list\n",
        "\n",
        "A list that contains no elements is called an empty list;\n",
        "you can create one with empty brackets,\n",
        "Ex:\n",
        "\n",
        " []\n",
        "\n"
      ],
      "metadata": {
        "id": "_sFbgei5U3yg"
      },
      "execution_count": null,
      "outputs": []
    },
    {
      "cell_type": "code",
      "source": [
        "#Example for list, nested list and empty list\n",
        "\n",
        "cheeses = ['Cheddar', 'Edam', 'Gouda']\n",
        "print(cheeses)\n",
        "\n",
        "\n"
      ],
      "metadata": {
        "colab": {
          "base_uri": "https://localhost:8080/"
        },
        "id": "kAF7JhgXVSFV",
        "outputId": "330ff01b-bc30-45a3-ff24-321df0420d48"
      },
      "execution_count": null,
      "outputs": [
        {
          "output_type": "stream",
          "name": "stdout",
          "text": [
            "['Cheddar', 'Edam', 'Gouda']\n"
          ]
        }
      ]
    },
    {
      "cell_type": "code",
      "source": [
        "\n",
        "numbers = [42, 123]\n",
        "\n",
        "print( numbers)"
      ],
      "metadata": {
        "colab": {
          "base_uri": "https://localhost:8080/"
        },
        "id": "dAtXEjApVh7y",
        "outputId": "8543ae4c-86f4-4705-ba41-612045ec06f1"
      },
      "execution_count": null,
      "outputs": [
        {
          "output_type": "stream",
          "name": "stdout",
          "text": [
            "[42, 123]\n"
          ]
        }
      ]
    },
    {
      "cell_type": "code",
      "source": [
        "\n",
        "empty = []\n",
        "print(empty)"
      ],
      "metadata": {
        "colab": {
          "base_uri": "https://localhost:8080/"
        },
        "id": "RHrNYaJFVil9",
        "outputId": "5c33d38b-487b-4562-85d3-9fd71828af7f"
      },
      "execution_count": null,
      "outputs": [
        {
          "output_type": "stream",
          "name": "stdout",
          "text": [
            "[]\n"
          ]
        }
      ]
    },
    {
      "cell_type": "code",
      "source": [
        "cheeses = ['Cheddar', 'Edam', 'Gouda']\n",
        "numbers = [42, 123]\n",
        "empty = []\n",
        "print(cheeses, numbers, empty)"
      ],
      "metadata": {
        "colab": {
          "base_uri": "https://localhost:8080/"
        },
        "id": "_FMag4KEVzbR",
        "outputId": "2e04251f-b738-4171-ae32-00a8838e442a"
      },
      "execution_count": null,
      "outputs": [
        {
          "output_type": "stream",
          "name": "stdout",
          "text": [
            "['Cheddar', 'Edam', 'Gouda'] [42, 123] []\n"
          ]
        }
      ]
    },
    {
      "cell_type": "code",
      "source": [
        "# Excercise:\n",
        "\n",
        "# 1. Crate a list to store your favorite fruits and display the list items\n",
        "\n",
        "# 2. Crate a list to store your favorite vegitables and display the list items\n",
        "\n",
        "# 3. Crate a list to store your movies  and display the list items\n",
        "\n",
        "# 4. Create a nested list to store movies name and  acters names"
      ],
      "metadata": {
        "id": "S6Ww5GOIWhc-"
      },
      "execution_count": null,
      "outputs": []
    },
    {
      "cell_type": "code",
      "source": [
        "# Lists are mutable\n",
        "#  The list is changeable, meaning that we can change, add, and remove\n",
        "# items in a list after it has been created\n",
        "\n",
        "numbers = [42, 123]\n",
        "numbers[1]\n",
        "\n"
      ],
      "metadata": {
        "colab": {
          "base_uri": "https://localhost:8080/"
        },
        "id": "sweHscLKXuRb",
        "outputId": "168db9dc-580b-4aa9-f40b-e099cde92ac1"
      },
      "execution_count": null,
      "outputs": [
        {
          "output_type": "execute_result",
          "data": {
            "text/plain": [
              "123"
            ]
          },
          "metadata": {},
          "execution_count": 8
        }
      ]
    },
    {
      "cell_type": "code",
      "source": [
        "numbers[1] = 5  # list valus is changed  with 5 instead of 5\n",
        "numbers"
      ],
      "metadata": {
        "colab": {
          "base_uri": "https://localhost:8080/"
        },
        "id": "mQ9kiTmYYtM4",
        "outputId": "327fad71-0361-4935-f541-676d378ea9e0"
      },
      "execution_count": null,
      "outputs": [
        {
          "output_type": "execute_result",
          "data": {
            "text/plain": [
              "[42, 5]"
            ]
          },
          "metadata": {},
          "execution_count": 9
        }
      ]
    },
    {
      "cell_type": "code",
      "source": [
        "#List indices :\n",
        "#• Any integer expression can be used as an index.\n",
        "#• If you try to read or write an element that does not exist, you get an IndexError.\n",
        "#• If an index has a negative value, it counts backward from the end of the list.\n",
        "\n",
        "\n",
        "cheeses = ['Cheddar', 'Edam', 'Gouda']\n",
        "'Edam' in cheeses\n",
        "\n"
      ],
      "metadata": {
        "colab": {
          "base_uri": "https://localhost:8080/"
        },
        "id": "YXrdSOvSZEDS",
        "outputId": "1bdf5cb2-5929-435b-eefc-c78029c386a0"
      },
      "execution_count": null,
      "outputs": [
        {
          "output_type": "execute_result",
          "data": {
            "text/plain": [
              "True"
            ]
          },
          "metadata": {},
          "execution_count": 13
        }
      ]
    },
    {
      "cell_type": "code",
      "source": [
        "cheeses = ['Cheddar', 'Edam', 'Gouda']\n",
        "'Brie' in cheeses"
      ],
      "metadata": {
        "colab": {
          "base_uri": "https://localhost:8080/"
        },
        "id": "E9nUdCDCZaQu",
        "outputId": "396ddc90-2705-4f4a-e0bf-5492f18d7a27"
      },
      "execution_count": null,
      "outputs": [
        {
          "output_type": "execute_result",
          "data": {
            "text/plain": [
              "False"
            ]
          },
          "metadata": {},
          "execution_count": 14
        }
      ]
    },
    {
      "cell_type": "code",
      "source": [
        "#List indices :\n",
        "#• If an index has a negative value, it counts backward from the end of the list.\n",
        "cheeses = ['Cheddar', 'Edam', 'Gouda']\n",
        "print(cheeses[-1])"
      ],
      "metadata": {
        "colab": {
          "base_uri": "https://localhost:8080/"
        },
        "id": "X-oWNRaWZbPW",
        "outputId": "651ac5c7-74c0-4b7f-a19a-1d29794a68df"
      },
      "execution_count": null,
      "outputs": [
        {
          "output_type": "stream",
          "name": "stdout",
          "text": [
            "Gouda\n"
          ]
        }
      ]
    },
    {
      "cell_type": "code",
      "source": [
        "cheeses = ['Cheddar', 'Edam', 'Gouda']\n",
        "print(cheeses[-2])"
      ],
      "metadata": {
        "colab": {
          "base_uri": "https://localhost:8080/"
        },
        "id": "mLZmgsaRZ2kY",
        "outputId": "80de8f5a-4d5a-48f3-86ba-bbec8fa89dfd"
      },
      "execution_count": null,
      "outputs": [
        {
          "output_type": "stream",
          "name": "stdout",
          "text": [
            "Edam\n"
          ]
        }
      ]
    },
    {
      "cell_type": "code",
      "source": [
        "#List indices :\n",
        "\n",
        "#• If you try to read or write an element that does not exist, you get an IndexError.\n",
        "\n",
        "\n",
        "\n",
        "cheeses = ['Cheddar', 'Edam', 'Gouda']\n",
        "print(cheeses[5])"
      ],
      "metadata": {
        "colab": {
          "base_uri": "https://localhost:8080/",
          "height": 217
        },
        "id": "n6RLo2BPZ-N0",
        "outputId": "48bebb7b-9475-4031-89f7-98d69fdad88b"
      },
      "execution_count": null,
      "outputs": [
        {
          "output_type": "error",
          "ename": "IndexError",
          "evalue": "ignored",
          "traceback": [
            "\u001b[0;31m---------------------------------------------------------------------------\u001b[0m",
            "\u001b[0;31mIndexError\u001b[0m                                Traceback (most recent call last)",
            "\u001b[0;32m<ipython-input-18-82cba5875c2d>\u001b[0m in \u001b[0;36m<cell line: 8>\u001b[0;34m()\u001b[0m\n\u001b[1;32m      6\u001b[0m \u001b[0;34m\u001b[0m\u001b[0m\n\u001b[1;32m      7\u001b[0m \u001b[0mcheeses\u001b[0m \u001b[0;34m=\u001b[0m \u001b[0;34m[\u001b[0m\u001b[0;34m'Cheddar'\u001b[0m\u001b[0;34m,\u001b[0m \u001b[0;34m'Edam'\u001b[0m\u001b[0;34m,\u001b[0m \u001b[0;34m'Gouda'\u001b[0m\u001b[0;34m]\u001b[0m\u001b[0;34m\u001b[0m\u001b[0;34m\u001b[0m\u001b[0m\n\u001b[0;32m----> 8\u001b[0;31m \u001b[0mprint\u001b[0m\u001b[0;34m(\u001b[0m\u001b[0mcheeses\u001b[0m\u001b[0;34m[\u001b[0m\u001b[0;36m5\u001b[0m\u001b[0;34m]\u001b[0m\u001b[0;34m)\u001b[0m\u001b[0;34m\u001b[0m\u001b[0;34m\u001b[0m\u001b[0m\n\u001b[0m",
            "\u001b[0;31mIndexError\u001b[0m: list index out of range"
          ]
        }
      ]
    },
    {
      "cell_type": "code",
      "source": [
        "# Allow Duplicates\n",
        "# Since lists are indexed, lists can have items with the same value:\n",
        "\n",
        "# Example\n",
        "# Lists allow duplicate values:\n",
        "\n",
        "fruitlist = [\"apple\", \"banana\", \"cherry\", \"apple\", \"cherry\"]\n",
        "print(fruitlist)"
      ],
      "metadata": {
        "colab": {
          "base_uri": "https://localhost:8080/"
        },
        "id": "nOVee9oUcwat",
        "outputId": "a22f9148-cb1b-4807-ac68-0e9cbb1225ff"
      },
      "execution_count": null,
      "outputs": [
        {
          "output_type": "stream",
          "name": "stdout",
          "text": [
            "['apple', 'banana', 'cherry', 'apple', 'cherry']\n"
          ]
        }
      ]
    },
    {
      "cell_type": "code",
      "source": [
        "#Range of Indexes  or slicing\n",
        "# You can specify a range of indexes by specifying where to start and where to end the range.\n",
        "# When specifying a range, the return value will be a new list with the specified items.\n",
        "\n",
        "# slicing\n",
        "#   List slicing refers to accessing a specific portion or\n",
        "#   a subset of the list for some operation while the orginal list remains unaffected\n",
        "\n",
        "fruitlist = [\"apple\", \"banana\", \"cherry\", \"orange\", \"kiwi\", \"melon\", \"mango\"]\n",
        "print(fruitlist[2:5])"
      ],
      "metadata": {
        "colab": {
          "base_uri": "https://localhost:8080/"
        },
        "id": "zKeZAj7OaQg7",
        "outputId": "6b1df539-a520-4d27-c7f4-7ac638ae9629"
      },
      "execution_count": null,
      "outputs": [
        {
          "output_type": "stream",
          "name": "stdout",
          "text": [
            "['cherry', 'orange', 'kiwi']\n"
          ]
        }
      ]
    },
    {
      "cell_type": "code",
      "source": [
        "# range of indexer or slicing\n",
        "\n",
        "fruitlist = [\"apple\", \"banana\", \"cherry\", \"orange\", \"kiwi\", \"melon\", \"mango\"]\n",
        "print(fruitlist[:4])\n",
        "\n",
        "#This will return the items from index 0 to index 4.\n",
        "\n",
        "#Remember that index 0 is the first item, and index 4 is the fifth item\n",
        "#Remember that the item in index 4 is NOT included"
      ],
      "metadata": {
        "colab": {
          "base_uri": "https://localhost:8080/"
        },
        "id": "7MSoeniSauaM",
        "outputId": "75d568f2-d0a1-4bcf-e320-727588e37ca4"
      },
      "execution_count": null,
      "outputs": [
        {
          "output_type": "stream",
          "name": "stdout",
          "text": [
            "['apple', 'banana', 'cherry', 'orange']\n"
          ]
        }
      ]
    },
    {
      "cell_type": "code",
      "source": [
        "# range of indexer  or slicing\n",
        "\n",
        "fruitlist = [\"apple\", \"banana\", \"cherry\", \"orange\", \"kiwi\", \"melon\", \"mango\"]\n",
        "print(fruitlist[2:])\n",
        "\n",
        "#This will return the items from index 2 to the end.\n",
        "\n",
        "#Remember that index 0 is the first item, and index 2 is the third"
      ],
      "metadata": {
        "colab": {
          "base_uri": "https://localhost:8080/"
        },
        "id": "9nmvdS8Xa6WS",
        "outputId": "f8613ffd-f22e-4fc5-fce6-e028ea8f949d"
      },
      "execution_count": null,
      "outputs": [
        {
          "output_type": "stream",
          "name": "stdout",
          "text": [
            "['cherry', 'orange', 'kiwi', 'melon', 'mango']\n"
          ]
        }
      ]
    },
    {
      "cell_type": "code",
      "source": [
        "# range of indexer  or slicing\n",
        "fruitlist = [\"apple\", \"banana\", \"cherry\", \"orange\", \"kiwi\", \"melon\", \"mango\"]\n",
        "print(fruitlist[:])"
      ],
      "metadata": {
        "colab": {
          "base_uri": "https://localhost:8080/"
        },
        "id": "BllmZRf2hMM9",
        "outputId": "a141b62b-b855-43b2-ac72-6966ac375443"
      },
      "execution_count": null,
      "outputs": [
        {
          "output_type": "stream",
          "name": "stdout",
          "text": [
            "['apple', 'banana', 'cherry', 'orange', 'kiwi', 'melon', 'mango']\n"
          ]
        }
      ]
    },
    {
      "cell_type": "code",
      "source": [
        "# Change a Range of Item Values\n",
        "# To change the value of items within a specific range,\n",
        "# define a list with the new values, and refer to the range of index numbers where you want to insert the new values:\n",
        "\n",
        "fruitlist = [\"apple\", \"banana\", \"cherry\", \"orange\", \"kiwi\", \"mango\"]\n",
        "\n",
        "fruitlist[1:3] = [\"blackcurrant\", \"watermelon\"]\n",
        "\n",
        "print(fruitlist)"
      ],
      "metadata": {
        "colab": {
          "base_uri": "https://localhost:8080/"
        },
        "id": "HGEJf4zXbKjk",
        "outputId": "a4c1b43a-2de2-4afb-823d-67867f869b5e"
      },
      "execution_count": null,
      "outputs": [
        {
          "output_type": "stream",
          "name": "stdout",
          "text": [
            "['apple', 'blackcurrant', 'watermelon', 'orange', 'kiwi', 'mango']\n"
          ]
        }
      ]
    },
    {
      "cell_type": "code",
      "source": [
        "#Change the second value by replacing it with two new values:\n",
        "\n",
        "fruitlist = [\"apple\", \"banana\", \"cherry\"]\n",
        "fruitlist[1:2] = [\"blackcurrant\", \"watermelon\"]\n",
        "print(fruitlist)"
      ],
      "metadata": {
        "colab": {
          "base_uri": "https://localhost:8080/"
        },
        "id": "uzg6VFcTblRF",
        "outputId": "9892e05b-9753-47f0-ceca-da8701eccf1d"
      },
      "execution_count": null,
      "outputs": [
        {
          "output_type": "stream",
          "name": "stdout",
          "text": [
            "['apple', 'blackcurrant', 'watermelon', 'cherry']\n"
          ]
        }
      ]
    },
    {
      "cell_type": "code",
      "source": [
        "# Excercise\n",
        "\n",
        "#  create a fruit list and  Change the value from \"apple\" to \"kiwi\", in the fruits list.\n",
        "# 1 Create a list with engineering college name , then replace all the value to arts college names\n",
        "\n",
        "# 2. Create a list with first semester courses names , then replace all the value to second semester courses name college names."
      ],
      "metadata": {
        "id": "bhnpsdEbb6x8"
      },
      "execution_count": null,
      "outputs": []
    },
    {
      "cell_type": "code",
      "source": [
        "#  Traversing a list\n",
        "# Accessing the element in a list one by one is called traversing a list\n",
        "# The most common way to traverse the elements of a list is with a for loop.\n",
        "\n",
        "# Ex:\n",
        "cheeses = ['Cheddar', 'Edam', 'Gouda']\n",
        "for cheese in cheeses:\n",
        "  print(cheese)\n"
      ],
      "metadata": {
        "colab": {
          "base_uri": "https://localhost:8080/"
        },
        "id": "hnH6de9neizF",
        "outputId": "391becec-ac04-469b-8d4b-23620e52b321"
      },
      "execution_count": null,
      "outputs": [
        {
          "output_type": "stream",
          "name": "stdout",
          "text": [
            "Cheddar\n",
            "Edam\n",
            "Gouda\n"
          ]
        }
      ]
    },
    {
      "cell_type": "code",
      "source": [
        "#  Traversing a list\n",
        "# Accessing the element in a list one by one is called traversing a list\n",
        "# The most common way to traverse the elements of a list is with a for loop.\n",
        "\n",
        "# Ex:\n",
        "# But if you want to write or update the elements, you need the indices.\n",
        "# A common way to do that is to combine the built-in functions range and len:\n",
        "\n",
        "numbers = [42, 123]\n",
        "for i in range(len(numbers)):\n",
        "  numbers[i] = numbers[i] * 2\n",
        "\n",
        "print(numbers)"
      ],
      "metadata": {
        "colab": {
          "base_uri": "https://localhost:8080/"
        },
        "id": "JGY9hnnje_V9",
        "outputId": "308056e8-bfbb-4c3f-caa6-6da08817bf5a"
      },
      "execution_count": null,
      "outputs": [
        {
          "output_type": "stream",
          "name": "stdout",
          "text": [
            "[84, 246]\n"
          ]
        }
      ]
    },
    {
      "cell_type": "code",
      "source": [
        "\n",
        "#Although a list can contain another list, the nested list still counts as a single element. The\n",
        "#length of this list is four:\n",
        "\n",
        "list1=['spam', 1, ['Brie', 'Roquefort', 'Pol le Veq'], [1, 2, 3]]\n",
        "len(list1)\n"
      ],
      "metadata": {
        "colab": {
          "base_uri": "https://localhost:8080/"
        },
        "id": "fuibAxJxgC3p",
        "outputId": "5473f4ca-f83f-40ea-f888-f8d913ab9eb6"
      },
      "execution_count": null,
      "outputs": [
        {
          "output_type": "execute_result",
          "data": {
            "text/plain": [
              "4"
            ]
          },
          "metadata": {},
          "execution_count": 29
        }
      ]
    },
    {
      "cell_type": "code",
      "source": [
        "# List methods\n",
        "# Python provides methods that operate on lists. For example, append adds a new element\n",
        "# to the end of a list:\n",
        "t = ['a', 'b', 'c']\n",
        "t.append('d')\n",
        "t\n"
      ],
      "metadata": {
        "colab": {
          "base_uri": "https://localhost:8080/"
        },
        "id": "xJfmTD7xhjth",
        "outputId": "61713504-dd03-4550-fbc6-add4c8104bff"
      },
      "execution_count": null,
      "outputs": [
        {
          "output_type": "execute_result",
          "data": {
            "text/plain": [
              "['a', 'b', 'c', 'd']"
            ]
          },
          "metadata": {},
          "execution_count": 31
        }
      ]
    },
    {
      "cell_type": "code",
      "source": [
        "# List methods\n",
        "# extend method takes a list as an argument and appends all of the elements:\n",
        "t1 = ['a', 'b', 'c']\n",
        "t2 = ['d', 'e']\n",
        "t1.extend(t2)\n",
        "t1\n"
      ],
      "metadata": {
        "colab": {
          "base_uri": "https://localhost:8080/"
        },
        "id": "8_PlxeVKhvKg",
        "outputId": "0090de4a-17d9-4ff6-f699-f9945839930d"
      },
      "execution_count": null,
      "outputs": [
        {
          "output_type": "execute_result",
          "data": {
            "text/plain": [
              "['a', 'b', 'c', 'd', 'e']"
            ]
          },
          "metadata": {},
          "execution_count": 33
        }
      ]
    },
    {
      "cell_type": "code",
      "source": [
        "# List methods\n",
        "# sort method  arranges the elements of the list from low to high:\n",
        "t = ['d', 'c', 'e', 'b', 'a']\n",
        "t.sort()\n",
        "t\n"
      ],
      "metadata": {
        "colab": {
          "base_uri": "https://localhost:8080/"
        },
        "id": "sRm0C2KNh6RM",
        "outputId": "2bf57dc0-3174-413d-dd07-8e3988f4755c"
      },
      "execution_count": null,
      "outputs": [
        {
          "output_type": "execute_result",
          "data": {
            "text/plain": [
              "['a', 'b', 'c', 'd', 'e']"
            ]
          },
          "metadata": {},
          "execution_count": 34
        }
      ]
    },
    {
      "cell_type": "code",
      "source": [
        "#  Deleting elements\n",
        "# List object provide several methodes to delete elements from a list.\n",
        "#  1. pop\n",
        "#  2. del\n",
        "#  3. remove\n",
        "\n",
        "# If you know the index of the element, you want, you can use pop:\n",
        "# pop modifies the list and returns the element that was removed.\n",
        "t = ['a', 'b', 'c']\n",
        "x = t.pop(1)\n",
        "t\n"
      ],
      "metadata": {
        "colab": {
          "base_uri": "https://localhost:8080/"
        },
        "id": "VneCnUhWifuJ",
        "outputId": "8257c424-41a4-476a-879e-9c1dc2878ecd"
      },
      "execution_count": null,
      "outputs": [
        {
          "output_type": "execute_result",
          "data": {
            "text/plain": [
              "['a', 'c']"
            ]
          },
          "metadata": {},
          "execution_count": 35
        }
      ]
    },
    {
      "cell_type": "code",
      "source": [
        "# pop modifies the list and returns the element that was removed.\n",
        "\n",
        "t = ['a', 'b', 'c']\n",
        "x = t.pop(1)\n",
        "x"
      ],
      "metadata": {
        "colab": {
          "base_uri": "https://localhost:8080/",
          "height": 36
        },
        "id": "iOGQGPUvjabK",
        "outputId": "dd8f0043-9af5-4fea-fda5-a1297c67fcb1"
      },
      "execution_count": null,
      "outputs": [
        {
          "output_type": "execute_result",
          "data": {
            "text/plain": [
              "'b'"
            ],
            "application/vnd.google.colaboratory.intrinsic+json": {
              "type": "string"
            }
          },
          "metadata": {},
          "execution_count": 36
        }
      ]
    },
    {
      "cell_type": "code",
      "source": [
        "#  Deleting elements\n",
        "# List object provide several methodes to delete elements from a list.\n",
        "#  1. pop\n",
        "#  2. del\n",
        "#  3. remove\n",
        "\n",
        "# If you don’t need the removed value, you can use the del operator:\n",
        "\n",
        "t = ['a', 'b', 'c']\n",
        "del t[1]\n",
        "t\n",
        "\n"
      ],
      "metadata": {
        "colab": {
          "base_uri": "https://localhost:8080/"
        },
        "id": "RYg0ImKvjDgE",
        "outputId": "c8e2cc1e-e190-4838-9e2c-6bebd10dbf86"
      },
      "execution_count": null,
      "outputs": [
        {
          "output_type": "execute_result",
          "data": {
            "text/plain": [
              "['a', 'c']"
            ]
          },
          "metadata": {},
          "execution_count": 38
        }
      ]
    },
    {
      "cell_type": "code",
      "source": [],
      "metadata": {
        "id": "X6olvni2j1u5"
      },
      "execution_count": null,
      "outputs": []
    },
    {
      "cell_type": "code",
      "source": [
        "#  Deleting elements\n",
        "# List object provide several methodes to delete elements from a list.\n",
        "#  1. pop\n",
        "#  2. del\n",
        "#  3. remove\n",
        "\n",
        "#To remove more than one element, you can use del with a slice index:\n",
        "t = ['a', 'b', 'c', 'd', 'e', 'f']\n",
        "del t[1:5]\n",
        "t\n"
      ],
      "metadata": {
        "colab": {
          "base_uri": "https://localhost:8080/"
        },
        "id": "kXx2jDf6j6ZI",
        "outputId": "ff200adc-eaa5-4235-aa9d-bbb4e1920208"
      },
      "execution_count": null,
      "outputs": [
        {
          "output_type": "execute_result",
          "data": {
            "text/plain": [
              "['a', 'f']"
            ]
          },
          "metadata": {},
          "execution_count": 39
        }
      ]
    },
    {
      "cell_type": "code",
      "source": [
        "#  Deleting elements\n",
        "# List object provide several methodes to delete elements from a list.\n",
        "#  1. pop\n",
        "#  2. del\n",
        "#  3. remove\n",
        "\n",
        "# The remove() method removes the first occurrence of the element with the specified value.\n",
        "\n",
        "t = ['a', 'b', 'c', 'd', 'e', 'f']\n",
        "t.remove(\"b\")\n",
        "t"
      ],
      "metadata": {
        "colab": {
          "base_uri": "https://localhost:8080/"
        },
        "id": "3slsnWv0kOcn",
        "outputId": "7c6db631-2567-420a-8005-2918e479737b"
      },
      "execution_count": null,
      "outputs": [
        {
          "output_type": "execute_result",
          "data": {
            "text/plain": [
              "['a', 'c', 'd', 'e', 'f']"
            ]
          },
          "metadata": {},
          "execution_count": 40
        }
      ]
    },
    {
      "cell_type": "code",
      "source": [
        "\n",
        "# Copy a List\n",
        "\n",
        "# The copy() method  make a copy.\n",
        "\n",
        "\n",
        "fruitlist = [\"apple\", \"banana\", \"cherry\"]\n",
        "fruitlist2 = fruitlist.copy()\n",
        "print(fruitlist2)\n",
        "\n",
        "# Justify list2 = list1 is not performing a copy operation. why ?\n",
        "# You cannot copy a list simply by typing list2 = list1, because: list2 will only be a reference to list1, and changes made in list1 will automatically also be made in list2.\n",
        "\n"
      ],
      "metadata": {
        "colab": {
          "base_uri": "https://localhost:8080/"
        },
        "id": "1bW9B3wYkvfa",
        "outputId": "65dbedfe-b9b6-46aa-aef2-6915b67394a7"
      },
      "execution_count": null,
      "outputs": [
        {
          "output_type": "stream",
          "name": "stdout",
          "text": [
            "['apple', 'banana', 'cherry']\n"
          ]
        }
      ]
    },
    {
      "cell_type": "code",
      "source": [
        "# Join Two Lists\n",
        "\n",
        "# There are several ways to join, or concatenate, two or more lists in Python.\n",
        "\n",
        "# One of the easiest ways are by using the + operator.\n",
        "\n",
        "# Join two list:\n",
        "\n",
        "list1 = [\"a\", \"b\", \"c\"]\n",
        "list2 = [1, 2, 3]\n",
        "\n",
        "list3 = list1 + list2\n",
        "print(list3)"
      ],
      "metadata": {
        "colab": {
          "base_uri": "https://localhost:8080/"
        },
        "id": "rL1Jb3b7lllT",
        "outputId": "762bf47a-939d-45f3-bffe-9d1e866a83fd"
      },
      "execution_count": null,
      "outputs": [
        {
          "output_type": "stream",
          "name": "stdout",
          "text": [
            "['a', 'b', 'c', 1, 2, 3]\n"
          ]
        }
      ]
    },
    {
      "cell_type": "code",
      "source": [
        "# Join Two Lists\n",
        "\n",
        "# Another way to join two lists is by appending all the items from list2 into list1, one by one:\n",
        "\n",
        "# Join two list:\n",
        "\n",
        "list1 = [\"a\", \"b\" , \"c\"]\n",
        "list2 = [1, 2, 3]\n",
        "\n",
        "for x in list2:\n",
        "  list1.append(x)\n",
        "\n",
        "print(list1)"
      ],
      "metadata": {
        "colab": {
          "base_uri": "https://localhost:8080/"
        },
        "id": "4J5odcZFl6aj",
        "outputId": "afcd6c1a-3cdc-42fa-b438-03ddfdf74cd7"
      },
      "execution_count": null,
      "outputs": [
        {
          "output_type": "stream",
          "name": "stdout",
          "text": [
            "['a', 'b', 'c', 1, 2, 3]\n"
          ]
        }
      ]
    },
    {
      "cell_type": "code",
      "source": [
        "# Join Two Lists\n",
        "\n",
        "#the extend() method  add elements from one list to another list\n",
        "list1 = [\"a\", \"b\" , \"c\"]\n",
        "list2 = [1, 2, 3]\n",
        "\n",
        "list1.extend(list2)\n",
        "print(list1)"
      ],
      "metadata": {
        "colab": {
          "base_uri": "https://localhost:8080/"
        },
        "id": "q8zvaxS0mGMv",
        "outputId": "e6c81745-e982-4e40-97be-0bd39b46e3fe"
      },
      "execution_count": null,
      "outputs": [
        {
          "output_type": "stream",
          "name": "stdout",
          "text": [
            "['a', 'b', 'c', 1, 2, 3]\n"
          ]
        }
      ]
    },
    {
      "cell_type": "code",
      "source": [
        "Method\t  Description\n",
        "append()\tAdds an element at the end of the list\n",
        "clear()\t  Removes all the elements from the list\n",
        "copy()\t  Returns a copy of the list\n",
        "count()\t  Returns the number of elements with the specified value\n",
        "extend()\tAdd the elements of a list (or any iterable), to the end of the current list\n",
        "index()\t  Returns the index of the first element with the specified value\n",
        "insert()\tAdds an element at the specified position\n",
        "pop()\t    Removes the element at the specified position\n",
        "remove()\tRemoves the item with the specified value\n",
        "reverse()\tReverses the order of the list\n",
        "sort()\t  Sorts the list"
      ],
      "metadata": {
        "id": "LOHPjre3mXbW"
      },
      "execution_count": null,
      "outputs": []
    },
    {
      "cell_type": "code",
      "source": [
        "#Home work Excercises\n",
        "\n",
        "Exercise 10.1. Write a function called nested_sum that takes a list of lists of integers and adds up\n",
        "the elements from all of the nested lists. For example:\n",
        ">>> t = [[1, 2], [3], [4, 5, 6]]\n",
        ">>> nested_sum(t)\n",
        "21\n",
        "\n",
        "\n",
        "Exercise 10.2. Write a function called cumsum that takes a list of numbers and returns the cumu\u0002lative sum;\n",
        "that is, a new list where the ith element is the sum of the first i + 1 elements from the\n",
        "original list. For example:\n",
        ">>> t = [1, 2, 3]\n",
        ">>> cumsum(t)\n",
        "[1, 3, 6]\n",
        "\n",
        "\n",
        "Exercise 10.3. Write a function called middle that takes a list and returns a new list that contains\n",
        "all but the first and last elements. For example:\n",
        ">>> t = [1, 2, 3, 4]\n",
        ">>> middle(t)\n",
        "[2, 3]\n",
        "\n",
        "\n",
        "\n",
        "Exercise 10.4. Write a function called chop that takes a list, modifies it by removing the first and\n",
        "last elements, and returns None. For example:\n",
        ">>> t = [1, 2, 3, 4]\n",
        ">>> chop(t)\n",
        ">>> t\n",
        "[2, 3]\n",
        "\n",
        "\n",
        "Exercise 10.5. Write a function called is_sorted that takes a list as a parameter and returns True\n",
        "if the list is sorted in ascending order and False otherwise. For example:\n",
        ">>> is_sorted([1, 2, 2])\n",
        "True\n",
        ">>> is_sorted(['b', 'a'])\n",
        "False\n",
        "\n",
        "\n",
        "\n",
        "Exercise 10.6. Two words are anagrams if you can rearrange the letters from one to spell the other.\n",
        "Write a function called is_anagram that takes two strings and returns True if they are anagrams.\n",
        "\n",
        "\n",
        "Exercise 10.7. Write a function called has_duplicates that takes a list and returns True if there\n",
        "is any element that appears more than once. It should not modify the original list.\n",
        "\n",
        "\n",
        "Exercise 10.11. Two words are a “reverse pair” if each is the reverse of the other. Write a program\n",
        "that finds all the reverse pairs in the word list.\n",
        "\n",
        "\n",
        "Exercise 10.12. Two words “interlock” if taking alternating letters from each forms a new\n",
        "word. For example, “shoe” and “cold” interlock to form “schooled”.\n",
        "1. Write a program that finds all pairs of words that interlock. Hint: don’t enumerate all pairs!\n",
        "2. Can you find any words that are three-way interlocked; that is, every third letter forms a\n",
        "   word, starting from the first, second or third?\n"
      ],
      "metadata": {
        "id": "oumxU7OJm7Dw"
      },
      "execution_count": null,
      "outputs": []
    },
    {
      "cell_type": "code",
      "source": [
        "# cloning lists\n",
        "Cloning or Copying a list\n",
        "\n",
        "This slicing method is considered when we want to modify a list\n",
        "and also keep a copy of the original.\n",
        "In this, we make a copy of the list itself, along with the reference. This process is also called cloning\n",
        "\n",
        "\n",
        "10  ways by which we can clone or copy a list in Python:\n",
        "\n",
        "Using the slicing technique\n",
        "Using the extend() method\n",
        "List copy using =(assignment operator)\n",
        "Using the method of Shallow Copy\n",
        "Using list comprehension\n",
        "Using the append() method\n",
        "Using the copy() method\n",
        "Using the method of Deep Copy\n",
        "Using the map method\n",
        "Using slice() function"
      ],
      "metadata": {
        "id": "6bkjcNvjpxHw"
      },
      "execution_count": null,
      "outputs": []
    },
    {
      "cell_type": "code",
      "source": [
        " # cloning lists\n",
        " # Cloning or Copying a list\n",
        "\n",
        " # Using the slicing technique\n",
        " #This is the easiest and fastest way to clone a list. This method is considered\n",
        " #when we want to modify a list and also keep a copy of the original.\n",
        " #In this, we make a copy of the list itself, along with the reference. This process is also called cloning\n",
        "\n",
        "l1 = [4, 8, 2, 10, 15, 18]\n",
        "l2 = l1[:]\n",
        "print(\"Original List:\", l1)\n",
        "print(\"After Cloning:\", l2)"
      ],
      "metadata": {
        "colab": {
          "base_uri": "https://localhost:8080/"
        },
        "id": "yhsMiZ3hqP-o",
        "outputId": "0f3c9cec-e01a-466e-8b82-361b1cee58c0"
      },
      "execution_count": null,
      "outputs": [
        {
          "output_type": "stream",
          "name": "stdout",
          "text": [
            "Original List: [4, 8, 2, 10, 15, 18]\n",
            "After Cloning: [4, 8, 2, 10, 15, 18]\n"
          ]
        }
      ]
    },
    {
      "cell_type": "code",
      "source": [
        "  # cloning lists\n",
        "\n",
        " # Clone or Copy Using Python extend() method\n",
        "\n",
        " #The lists can be copied into a new list by using the extend() function.\n",
        " #This appends each element of the iterable object\n",
        "  #(e.g., another list) to the end of the new list.\n",
        "  #This takes around 0.053 seconds to complete.\n",
        "  #In this example, we are using extend() to copy or clone list.\n",
        "\n",
        "\n",
        "def Cloning(l1):\n",
        "    l1_copy = []\n",
        "    l1_copy.extend(l1)\n",
        "    return l1_copy\n",
        "\n",
        "\n",
        "# Driver Code\n",
        "l1 = [4, 8, 2, 10, 15, 18]\n",
        "l2 = Cloning(l1)\n",
        "print(\"Original List:\", l1)\n",
        "print(\"After Cloning:\", l2)\n",
        "\n",
        "\n"
      ],
      "metadata": {
        "colab": {
          "base_uri": "https://localhost:8080/"
        },
        "id": "MBsA0UdcqnO6",
        "outputId": "95c2c31d-c0f4-474e-ba0c-0229c490d989"
      },
      "execution_count": null,
      "outputs": [
        {
          "output_type": "stream",
          "name": "stdout",
          "text": [
            "Original List: [4, 8, 2, 10, 15, 18]\n",
            "After Cloning: [4, 8, 2, 10, 15, 18]\n"
          ]
        }
      ]
    },
    {
      "cell_type": "code",
      "source": [
        " # cloning lists\n",
        "\n",
        "# Python Copy List Using Assignment Operator\n",
        "\n",
        "# This is the simplest method of cloning a list by using = operators.\n",
        "# This operator assigns the old list to the new list using Python operators.\n",
        "# Here we will create a list and then we will copy the old list into the\n",
        "# new list using assignment operators.\n",
        "# In this example, we are using assignment operator to clone or copy Python list.\n",
        "\n",
        "l1 = [4, 8, 2, 10, 15, 18]\n",
        "l2 = l1\n",
        "print(\"Original List:\", l1)\n",
        "print(\"After Cloning:\", l2)"
      ],
      "metadata": {
        "colab": {
          "base_uri": "https://localhost:8080/"
        },
        "id": "Pu8KGSu-sjdN",
        "outputId": "538b0446-0370-4c34-f558-e607ac1ba003"
      },
      "execution_count": null,
      "outputs": [
        {
          "output_type": "stream",
          "name": "stdout",
          "text": [
            "Original List: [4, 8, 2, 10, 15, 18]\n",
            "After Cloning: [4, 8, 2, 10, 15, 18]\n"
          ]
        }
      ]
    },
    {
      "cell_type": "code",
      "source": [
        " # cloning lists\n",
        "\n",
        "# Using Shallow Copy in Python\n",
        "# a copy of the original object is stored and only the reference address is finally copied\n",
        "\n",
        "# importing copy module\n",
        "import copy\n",
        "\n",
        "# initializing list 1\n",
        "li1 = [1, 2, [3,5], 4]\n",
        "\n",
        "# using copy for shallow copy\n",
        "li2 = copy.copy(li1)\n",
        "\n",
        "print(li2)"
      ],
      "metadata": {
        "colab": {
          "base_uri": "https://localhost:8080/"
        },
        "id": "JOQKNChVs6Ma",
        "outputId": "4ee229a4-f93d-4dda-d033-a89cadc2bd75"
      },
      "execution_count": null,
      "outputs": [
        {
          "output_type": "stream",
          "name": "stdout",
          "text": [
            "[1, 2, [3, 5], 4]\n"
          ]
        }
      ]
    },
    {
      "cell_type": "code",
      "source": [
        "\n",
        "# cloning lists\n",
        "# Python Cloning or Copying a list Using List Comprehension\n",
        "# In this example, we are using list comprehension or looping method  to clone or copy a list.\n",
        "\n",
        "# Python code to clone or copy a list\n",
        "# Using list comprehension\n",
        "def Cloning(l1):\n",
        "    l1_copy = [i for i in l1]\n",
        "    return l1_copy\n",
        "\n",
        "# Driver Code\n",
        "l1 = [4, 8, 2, 10, 15, 18]\n",
        "l2 = Cloning(l1)\n",
        "print(\"Original List:\", l1)\n",
        "print(\"After Cloning:\", l2)"
      ],
      "metadata": {
        "colab": {
          "base_uri": "https://localhost:8080/"
        },
        "id": "gR8u_Nc8tIW0",
        "outputId": "da29653d-5aa6-4762-c8c0-53de568e7d03"
      },
      "execution_count": null,
      "outputs": [
        {
          "output_type": "stream",
          "name": "stdout",
          "text": [
            "Original List: [4, 8, 2, 10, 15, 18]\n",
            "After Cloning: [4, 8, 2, 10, 15, 18]\n"
          ]
        }
      ]
    },
    {
      "cell_type": "code",
      "source": [
        " # cloning lists\n",
        "\n",
        "# Python append() to Clone or Copy a list\n",
        "# This can be used for appending and adding elements to list or\n",
        "# copying them to a new list. It is used to add elements to the last position of the list.\n",
        "# This takes around 0.325 seconds to complete and is the slowest method of cloning.\n",
        "# In this example, we are using Python append to copy a Python list.\n",
        "\n",
        "\n",
        "def Cloning(l1):\n",
        "    l1_copy =[]\n",
        "    for item in l1: l1_copy.append(item)\n",
        "    return l1_copy\n",
        "\n",
        "# Driver Code\n",
        "l1 = [4, 8, 2, 10, 15, 18]\n",
        "l2 = Cloning(l1)\n",
        "print(\"Original List:\", l1)\n",
        "print(\"After Cloning:\", l2)"
      ],
      "metadata": {
        "colab": {
          "base_uri": "https://localhost:8080/"
        },
        "id": "lo_KAX--tTc-",
        "outputId": "fd1d959a-4d08-4ec2-d0f6-6d32c9afaaac"
      },
      "execution_count": null,
      "outputs": [
        {
          "output_type": "stream",
          "name": "stdout",
          "text": [
            "Original List: [4, 8, 2, 10, 15, 18]\n",
            "After Cloning: [4, 8, 2, 10, 15, 18]\n"
          ]
        }
      ]
    },
    {
      "cell_type": "code",
      "source": [
        " # cloning lists\n",
        "\n",
        " # Using the copy() method\n",
        " # The Python List copy() is an inbuilt method copy used to copy all the elements from one list to another.\n",
        "  #This takes around 1.488 seconds to complete.\n",
        "\n",
        "  # Driver Code\n",
        "l1 = [4, 8, 2, 10, 15, 18]\n",
        "l2 = l1.copy()\n",
        "print(\"Original List:\", l1)\n",
        "print(\"After Cloning:\", l2)"
      ],
      "metadata": {
        "colab": {
          "base_uri": "https://localhost:8080/"
        },
        "id": "hx2XQ4jnuGSU",
        "outputId": "6c292385-9bbf-4359-f7f2-424d9444ac23"
      },
      "execution_count": null,
      "outputs": [
        {
          "output_type": "stream",
          "name": "stdout",
          "text": [
            "Original List: [4, 8, 2, 10, 15, 18]\n",
            "After Cloning: [4, 8, 2, 10, 15, 18]\n"
          ]
        }
      ]
    },
    {
      "cell_type": "code",
      "source": [
        "# cloning lists\n",
        "# Using the method of Deep Copy\n",
        "# the copy of the original object and the repetitive copies both are stored\n",
        "\n",
        "\n",
        "# importing copy module\n",
        "import copy\n",
        "\n",
        "# initializing list 1\n",
        "li1 = [1, 2, [3,5], 4]\n",
        "\n",
        "# using deepcopy for deepcopy\n",
        "li3 = copy.deepcopy(li1)\n",
        "print(li3)"
      ],
      "metadata": {
        "colab": {
          "base_uri": "https://localhost:8080/"
        },
        "id": "XLRIt4youjY-",
        "outputId": "e2ad2bae-e50b-4103-f713-ee5395f960d7"
      },
      "execution_count": null,
      "outputs": [
        {
          "output_type": "stream",
          "name": "stdout",
          "text": [
            "[1, 2, [3, 5], 4]\n"
          ]
        }
      ]
    },
    {
      "cell_type": "code",
      "source": [
        "# Difference between  Shallow copy and deep copy\n",
        "\n",
        "# In Shallow copy, a copy of the original object is stored and only the reference address is finally copied.\n",
        "# In Deep copy, the copy of the original object and the repetitive copies both are stored."
      ],
      "metadata": {
        "id": "Qgk8ZU9nw0fF"
      },
      "execution_count": null,
      "outputs": []
    },
    {
      "cell_type": "code",
      "source": [
        "\n",
        "# cloning lists\n",
        "#Copy a List Using Enumerate Function\n",
        "# In this example, we are using enumerate function to copy or clone a list.\n",
        "\n",
        "# Python code to clone or copy a list\n",
        "# Using list comprehension\n",
        "\n",
        "l1 = [4, 8, 2, 10, 15, 18]\n",
        "l2 = [i for a,i in enumerate(l1)]\n",
        "print(\"Original List:\", l1)\n",
        "print(\"After Cloning:\", l2)"
      ],
      "metadata": {
        "colab": {
          "base_uri": "https://localhost:8080/"
        },
        "id": "Rc12_mmVuvFu",
        "outputId": "7452c5fd-e5ea-4dcb-cc34-0958c5382024"
      },
      "execution_count": 2,
      "outputs": [
        {
          "output_type": "stream",
          "name": "stdout",
          "text": [
            "Original List: [4, 8, 2, 10, 15, 18]\n",
            "After Cloning: [4, 8, 2, 10, 15, 18]\n"
          ]
        }
      ]
    },
    {
      "cell_type": "code",
      "source": [
        "# cloning lists\n",
        "\n",
        "# Python Copy or Clone a List using Map Function\n",
        "# In this example, we are using map function to clone or copy a list using map function.\n",
        "\n",
        "\n",
        "\n",
        "# Python code to clone or copy a list\n",
        "# Using map function\n",
        "l1 = [4, 8, 2, 10, 15, 18]\n",
        "l2 = map(int, l1)\n",
        "print(\"Original List:\", l1)\n",
        "print(\"After Cloning:\", *l2)\n",
        "\n",
        "# Explaination\n",
        "#  The *l2 is used to unpack the elements obtained after applying the map(int, l1) function to the list l1."
      ],
      "metadata": {
        "colab": {
          "base_uri": "https://localhost:8080/"
        },
        "id": "hWm1_bvUvKfH",
        "outputId": "ec806965-0450-4930-8a07-600056d66c81"
      },
      "execution_count": 5,
      "outputs": [
        {
          "output_type": "stream",
          "name": "stdout",
          "text": [
            "Original List: [4, 8, 2, 10, 15, 18]\n",
            "After Cloning: 4 8 2 10 15 18\n"
          ]
        }
      ]
    },
    {
      "cell_type": "code",
      "source": [
        "# cloning lists\n",
        "\n",
        "# Using slice() function\n",
        "# The Python slice() is an inbuilt method used to copy all the elements\n",
        "# from one list to another. Here slice() function is passed with one argument\n",
        "# which is an integer specifying at which position slicing will end.\n",
        "\n",
        "# Python code to clone or copy a list\n",
        "# Using slice() function\n",
        "l1 = [4, 8, 2, 10, 15, 18]\n",
        "l2 = l1[slice(len(l1))]\n",
        "print(\"Original List:\", l1)\n",
        "print(\"After Cloning:\", l2)"
      ],
      "metadata": {
        "colab": {
          "base_uri": "https://localhost:8080/"
        },
        "id": "lagAt3DMvYKf",
        "outputId": "1e045360-b6e1-4de0-fbf7-23e93c7e5275"
      },
      "execution_count": null,
      "outputs": [
        {
          "output_type": "stream",
          "name": "stdout",
          "text": [
            "Original List: [4, 8, 2, 10, 15, 18]\n",
            "After Cloning: [4, 8, 2, 10, 15, 18]\n"
          ]
        }
      ]
    },
    {
      "cell_type": "code",
      "source": [
        "# cloning lists\n",
        "# Using the deque() function\n",
        "# The deque() function is used to create a double-ended queue in Python.\n",
        "#  It can be used to efficiently append or remove elements from both ends of the queue.\n",
        "# In this approach, we create a deque object with the original list and then convert\n",
        "#  it back to a list to create a copy of the original list.\n",
        "\n",
        "from collections import deque\n",
        "\n",
        "l1 = [4, 8, 2, 10, 15, 18]\n",
        "\n",
        "l2 = deque(l1)\n",
        "l2 = list(l2)\n",
        "\n",
        "print(\"Original List:\", l1)\n",
        "\n",
        "print(\"After Cloning:\", l2)"
      ],
      "metadata": {
        "colab": {
          "base_uri": "https://localhost:8080/"
        },
        "id": "YlT9b-8ZvyiF",
        "outputId": "3011bb44-5b88-4b5e-93cc-5048a7b43f1a"
      },
      "execution_count": null,
      "outputs": [
        {
          "output_type": "stream",
          "name": "stdout",
          "text": [
            "Original List: [4, 8, 2, 10, 15, 18]\n",
            "After Cloning: [4, 8, 2, 10, 15, 18]\n"
          ]
        }
      ]
    },
    {
      "cell_type": "code",
      "source": [
        "from collections import deque\n",
        "\n",
        "l1 = [4, 8, 2, 10, 15, 18]\n",
        "l2 = deque(l1)\n",
        "\n",
        "\n",
        "print(\"Original List:\", l1)\n",
        "\n",
        "print(\"After Cloning:\", l2)"
      ],
      "metadata": {
        "colab": {
          "base_uri": "https://localhost:8080/"
        },
        "id": "sHXNhiQfahff",
        "outputId": "a17e0ea8-5471-48ea-8cff-edeef7f598f6"
      },
      "execution_count": 6,
      "outputs": [
        {
          "output_type": "stream",
          "name": "stdout",
          "text": [
            "Original List: [4, 8, 2, 10, 15, 18]\n",
            "After Cloning: deque([4, 8, 2, 10, 15, 18])\n"
          ]
        }
      ]
    },
    {
      "cell_type": "code",
      "source": [
        "# cloning lists\n",
        "\n",
        "# Copy a Python List Using reduce()\n",
        "# In this example, we are using reduce() method to copy a list.\n",
        "\n",
        "\n",
        "from functools import reduce\n",
        "\n",
        "def clone_list(l1):\n",
        "    return reduce(lambda x, y: x + [y], l1, [])\n",
        "\n",
        "l1 = [4, 8, 2, 10, 15, 18]\n",
        "l2 = clone_list(l1)\n",
        "print(\"Original List:\", l1)\n",
        "print(\"After Cloning:\", l2)\n",
        "\n",
        "\n",
        "# Explanation:\n",
        "# Uses reduce() to iterate through the elements of l1\n",
        "# The lambda function concatenates each element y into the list x, starting with an empty list []."
      ],
      "metadata": {
        "colab": {
          "base_uri": "https://localhost:8080/"
        },
        "id": "Pnz30xSdwVJv",
        "outputId": "6456d01f-675a-4554-9198-c64109f7b2c1"
      },
      "execution_count": null,
      "outputs": [
        {
          "output_type": "stream",
          "name": "stdout",
          "text": [
            "Original List: [4, 8, 2, 10, 15, 18]\n",
            "After Cloning: [4, 8, 2, 10, 15, 18]\n"
          ]
        }
      ]
    }
  ]
}